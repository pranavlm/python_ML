{
  "nbformat": 4,
  "nbformat_minor": 0,
  "metadata": {
    "colab": {
      "name": "Python_ML.ipynb",
      "provenance": [],
      "authorship_tag": "ABX9TyMuNiU80fw4iTHCDcLA8q1z",
      "include_colab_link": true
    },
    "kernelspec": {
      "name": "python3",
      "display_name": "Python 3"
    }
  },
  "cells": [
    {
      "cell_type": "markdown",
      "metadata": {
        "id": "view-in-github",
        "colab_type": "text"
      },
      "source": [
        "<a href=\"https://colab.research.google.com/github/pranavlm/python_ML/blob/master/Python_ML.ipynb\" target=\"_parent\"><img src=\"https://colab.research.google.com/assets/colab-badge.svg\" alt=\"Open In Colab\"/></a>"
      ]
    },
    {
      "cell_type": "markdown",
      "metadata": {
        "id": "YVGhXRUmoBkg",
        "colab_type": "text"
      },
      "source": [
        "\n",
        "# Write a Python program which accepts the user's first and last name and print them in reverse order with a space between them"
      ]
    },
    {
      "cell_type": "code",
      "metadata": {
        "id": "9kCnhw30oFGD",
        "colab_type": "code",
        "colab": {
          "base_uri": "https://localhost:8080/",
          "height": 67
        },
        "outputId": "3519d940-c660-40d3-b559-e151f6c50829"
      },
      "source": [
        "fname = input(\"Input your First Name : \")\n",
        "lname = input(\"Input your Last Name : \")\n",
        "print (\"\" + lname + \" \" + fname)\n"
      ],
      "execution_count": 1,
      "outputs": [
        {
          "output_type": "stream",
          "text": [
            "Input your First Name : Pranav \n",
            "Input your Last Name : Sharma\n",
            "Sharma Pranav \n"
          ],
          "name": "stdout"
        }
      ]
    },
    {
      "cell_type": "markdown",
      "metadata": {
        "id": "SJ3SPvkloZEc",
        "colab_type": "text"
      },
      "source": [
        "**Write a Python program to calculate number of days between two dates**."
      ]
    },
    {
      "cell_type": "code",
      "metadata": {
        "id": "Bfu-zqLUolyq",
        "colab_type": "code",
        "colab": {
          "base_uri": "https://localhost:8080/",
          "height": 134
        },
        "outputId": "dc1d42a8-0407-48d6-df13-2d7c403cec66"
      },
      "source": [
        "from datetime import date\n",
        "y1=int(input(\"enter year1: \"))\n",
        "m1=int(input(\"enter month1: \"))\n",
        "d1=int(input(\"enter date1: \"))\n",
        "y2=int(input(\"enter year2: \"))\n",
        "m2=int(input(\"enter month2: \"))\n",
        "d2=int(input(\"enter date2: \"))\n",
        "f_date = date(y1, m1, d1)\n",
        "l_date = date(y2, m2, d2)\n",
        "delta = l_date - f_date\n",
        "print(delta.days)"
      ],
      "execution_count": 2,
      "outputs": [
        {
          "output_type": "stream",
          "text": [
            "enter year1: 2012\n",
            "enter month1: 2\n",
            "enter date1: 6\n",
            "enter year2: 2016\n",
            "enter month2: 9\n",
            "enter date2: 9\n",
            "1677\n"
          ],
          "name": "stdout"
        }
      ]
    },
    {
      "cell_type": "markdown",
      "metadata": {
        "id": "7EZXQ3booz8M",
        "colab_type": "text"
      },
      "source": [
        "# Write a Python program to test whether a passed letter is a vowel or not"
      ]
    },
    {
      "cell_type": "code",
      "metadata": {
        "id": "KLcCWHTEo14K",
        "colab_type": "code",
        "colab": {
          "base_uri": "https://localhost:8080/",
          "height": 50
        },
        "outputId": "708218e1-3f15-40ba-edee-c82ed757c7a4"
      },
      "source": [
        "def is_vowel(char):\n",
        "    all_vowels = 'aeiou'\n",
        "    return char in all_vowels\n",
        "ch=input(\"enter character: \")\n",
        "print(is_vowel(ch))"
      ],
      "execution_count": 4,
      "outputs": [
        {
          "output_type": "stream",
          "text": [
            "enter character: a\n",
            "True\n"
          ],
          "name": "stdout"
        }
      ]
    },
    {
      "cell_type": "markdown",
      "metadata": {
        "id": "67gDZVfapHwE",
        "colab_type": "text"
      },
      "source": [
        "# Write a Python program to sum of three given integers. However, if two values are equal sum will be zero."
      ]
    },
    {
      "cell_type": "code",
      "metadata": {
        "id": "8x3kCRGSpLT5",
        "colab_type": "code",
        "colab": {
          "base_uri": "https://localhost:8080/",
          "height": 84
        },
        "outputId": "de1aa75f-6e6c-43dd-f825-51ff95864b1f"
      },
      "source": [
        "def sum(x, y, z):\n",
        "    if x == y or y == z or x==z:\n",
        "        sum = 0\n",
        "    else:\n",
        "        sum = x + y + z\n",
        "    return sum\n",
        "x=int(input(\"enter 1st num : \"))\n",
        "y=int(input(\"enter 2nd num : \"))\n",
        "z=int(input(\"enter 3rd num : \"))\n",
        "print(sum(x, y, z))"
      ],
      "execution_count": 5,
      "outputs": [
        {
          "output_type": "stream",
          "text": [
            "enter 1st num : 5\n",
            "enter 2nd num : 7\n",
            "enter 3rd num : 6\n",
            "18\n"
          ],
          "name": "stdout"
        }
      ]
    },
    {
      "cell_type": "markdown",
      "metadata": {
        "id": "h6qiA28TpSDO",
        "colab_type": "text"
      },
      "source": [
        "# Write a Python program to count the number of characters (character frequency) in a string"
      ]
    },
    {
      "cell_type": "code",
      "metadata": {
        "id": "2HwtDDUvpV1T",
        "colab_type": "code",
        "colab": {
          "base_uri": "https://localhost:8080/",
          "height": 50
        },
        "outputId": "1eed6421-90af-4f4e-b24a-c00b723ecd3f"
      },
      "source": [
        "def char_frequency(str1):\n",
        "    dict = {}\n",
        "    for n in str1:\n",
        "        keys = dict.keys()\n",
        "        if n in keys:\n",
        "            dict[n] += 1\n",
        "        else:\n",
        "            dict[n] = 1\n",
        "    return dict\n",
        "ch=input(\"enter string : \")\n",
        "print(char_frequency(ch))"
      ],
      "execution_count": 6,
      "outputs": [
        {
          "output_type": "stream",
          "text": [
            "enter string : pranavaa\n",
            "{'p': 1, 'r': 1, 'a': 4, 'n': 1, 'v': 1}\n"
          ],
          "name": "stdout"
        }
      ]
    }
  ]
}